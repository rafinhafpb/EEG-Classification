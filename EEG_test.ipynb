{
 "cells": [
  {
   "cell_type": "markdown",
   "metadata": {},
   "source": [
    "## Data gathering and separation"
   ]
  },
  {
   "cell_type": "code",
   "execution_count": 61,
   "metadata": {},
   "outputs": [],
   "source": [
    "from glob import glob\n",
    "import os\n",
    "import mne\n",
    "import numpy as np\n",
    "import pandas as pd\n",
    "import matplotlib.pyplot as plt"
   ]
  },
  {
   "cell_type": "code",
   "execution_count": 62,
   "metadata": {},
   "outputs": [
    {
     "name": "stdout",
     "output_type": "stream",
     "text": [
      "28\n",
      "../dataverse_files\\h01.edf\n"
     ]
    }
   ],
   "source": [
    "# Get the data set path file\n",
    "all_file_path = glob('../dataverse_files/*.edf')\n",
    "print(len(all_file_path))\n",
    "print(all_file_path[0])"
   ]
  },
  {
   "cell_type": "code",
   "execution_count": 63,
   "metadata": {},
   "outputs": [],
   "source": [
    "# Separate healthy and schozofrenic patients eeg data\n",
    "healthy_file_path = [i for i in all_file_path if 'h' in i.split('\\\\')[1]]\n",
    "patient_file_path = [i for i in all_file_path if 's' in i.split('\\\\')[1]]"
   ]
  },
  {
   "cell_type": "code",
   "execution_count": 64,
   "metadata": {},
   "outputs": [],
   "source": [
    "# Function to read the data from .edf files using mne\n",
    "\n",
    "def read_data(file_path, low_freq=0.5, high_freq=45, duration=5, overlap=1):\n",
    "    data = mne.io.read_raw_edf(file_path, preload=True)\n",
    "    data.set_eeg_reference()\n",
    "    data.filter(l_freq=low_freq, h_freq=high_freq)\n",
    "    epochs = mne.make_fixed_length_epochs(data, duration=duration, overlap=overlap)\n",
    "    array = epochs.get_data()\n",
    "    return array"
   ]
  },
  {
   "cell_type": "code",
   "execution_count": 65,
   "metadata": {},
   "outputs": [
    {
     "name": "stdout",
     "output_type": "stream",
     "text": [
      "Extracting EDF parameters from c:\\Projects\\EEG Classification\\dataverse_files\\h01.edf...\n",
      "EDF file detected\n",
      "Setting channel info structure...\n",
      "Creating raw.info structure...\n",
      "Reading 0 ... 231249  =      0.000 ...   924.996 secs...\n",
      "EEG channel type selected for re-referencing\n",
      "Applying average reference.\n",
      "Applying a custom ('EEG',) reference.\n",
      "Filtering raw data in 1 contiguous segment\n",
      "Setting up band-pass filter from 0.5 - 45 Hz\n",
      "\n",
      "FIR filter parameters\n",
      "---------------------\n",
      "Designing a one-pass, zero-phase, non-causal bandpass filter:\n",
      "- Windowed time-domain design (firwin) method\n",
      "- Hamming window with 0.0194 passband ripple and 53 dB stopband attenuation\n",
      "- Lower passband edge: 0.50\n",
      "- Lower transition bandwidth: 0.50 Hz (-6 dB cutoff frequency: 0.25 Hz)\n",
      "- Upper passband edge: 45.00 Hz\n",
      "- Upper transition bandwidth: 11.25 Hz (-6 dB cutoff frequency: 50.62 Hz)\n",
      "- Filter length: 1651 samples (6.604 s)\n",
      "\n",
      "Not setting metadata\n",
      "231 matching events found\n",
      "No baseline correction applied\n",
      "0 projection items activated\n",
      "Using data from preloaded Raw for 231 events and 1250 original time points ...\n",
      "0 bad epochs dropped\n"
     ]
    },
    {
     "name": "stderr",
     "output_type": "stream",
     "text": [
      "[Parallel(n_jobs=1)]: Done  17 tasks      | elapsed:    0.0s\n"
     ]
    },
    {
     "data": {
      "text/plain": [
       "(231, 19, 1250)"
      ]
     },
     "execution_count": 65,
     "metadata": {},
     "output_type": "execute_result"
    }
   ],
   "source": [
    "sample_data = read_data(healthy_file_path[0])\n",
    "sample_data.shape   # Nb of epochs (time windows speficied by duration in the function above), channels (nb of electrodes in the eeg), lenght of the signal (nb of total points)"
   ]
  },
  {
   "cell_type": "code",
   "execution_count": 66,
   "metadata": {},
   "outputs": [],
   "source": [
    "%%capture\n",
    "\n",
    "control_epochs_array = [read_data(i) for i in healthy_file_path]\n",
    "patient_epochs_array = [read_data(i) for i in healthy_file_path]\n",
    "\n",
    "# each array will have the data of 14 subjects"
   ]
  },
  {
   "cell_type": "code",
   "execution_count": 67,
   "metadata": {},
   "outputs": [
    {
     "data": {
      "text/plain": [
       "(14, 14)"
      ]
     },
     "execution_count": 67,
     "metadata": {},
     "output_type": "execute_result"
    }
   ],
   "source": [
    "# labeling healthy data as \"0\" and schizofrenic patient data as \"1\" for each epoch on each subject\n",
    "\n",
    "control_epochs_labels = [len(i)*[0] for i in control_epochs_array]\n",
    "patient_epochs_labels = [len(i)*[1] for i in patient_epochs_array]\n",
    "\n",
    "len(control_epochs_labels), len(patient_epochs_labels)"
   ]
  },
  {
   "cell_type": "code",
   "execution_count": 68,
   "metadata": {},
   "outputs": [],
   "source": [
    "data_list = control_epochs_array + patient_epochs_array    # all data\n",
    "label_list = control_epochs_labels + patient_epochs_labels  # all labels"
   ]
  },
  {
   "cell_type": "code",
   "execution_count": 69,
   "metadata": {},
   "outputs": [
    {
     "name": "stdout",
     "output_type": "stream",
     "text": [
      "28\n"
     ]
    }
   ],
   "source": [
    "# Identifying data per subject\n",
    "group_list = [[i]*len(j) for i,j in enumerate(data_list)]\n",
    "print(len(group_list))"
   ]
  },
  {
   "cell_type": "code",
   "execution_count": null,
   "metadata": {},
   "outputs": [
    {
     "name": "stdout",
     "output_type": "stream",
     "text": [
      "(6502, 19, 1250) (6502,) (6502,)\n"
     ]
    }
   ],
   "source": [
    "# Transforms into array of eeg signals stacked\n",
    "\n",
    "data_array = np.vstack(data_list)\n",
    "label_array = np.hstack(label_list)\n",
    "group_array = np.hstack(group_list)\n",
    "print(data_array.shape, label_array.shape, group_array.shape)   # (epochs, electrodes, total points), (labels - 0 for healthy, 1 for patient), (subjects)"
   ]
  },
  {
   "cell_type": "markdown",
   "metadata": {},
   "source": [
    "## Features extraction "
   ]
  },
  {
   "cell_type": "code",
   "execution_count": null,
   "metadata": {},
   "outputs": [],
   "source": [
    "def extract_features_time_domain(signal):\n",
    "    \"\"\"\n",
    "    This function extracts features in the time domain from a raw EEG signal\n",
    "\n",
    "    ## Returns:\n",
    "\n",
    "    This function returns a **ndarray** which contain, respectively, the following features:\\n\n",
    "\n",
    "    - **Mean**: The average of the signal.\n",
    "\n",
    "    - **Variance**: Indicates how much the signal amplitude fluctuates from the mean.\n",
    "\n",
    "    - **Standard Deviation**: The square root of the variance, showing the average amount of deviation from the mean.\n",
    "\n",
    "    - **Root-Mean-Square (RMS)**: Measures the magnitude of the EEG signal by taking the square root of the average of the squared values.\n",
    "\n",
    "    - **Absolute Mean Difference (AMD)**: This feature calculates the average absolute difference between consecutive values.\n",
    "\n",
    "    - **Skewness**: Measures the asymmetry of the signal around the mean. Positive skew indicates a tail on the right side,\n",
    "    while negative skew shows a tail on the left. It helps detect irregular patterns.\n",
    "\n",
    "    - **Kurtosis**: Measures the \"tailedness\" of the signal distribution, indicating whether data points are close to the mean or more spread out.\n",
    "    High kurtosis may indicate spikes or irregularities in the signal.\n",
    "\n",
    "    ### Hjorth Parameters: A set of metrics specifically for EEG data:\\n\n",
    "\n",
    "    - **Mobility**: Indicates the frequency, defined as the square root of the variance of the first derivative divided by the variance of the signal.\n",
    "\n",
    "    - **Complexity**: The ratio of the mobility of the first derivative to the mobility of the signal itself.\n",
    "\n",
    "    \"\"\"\n",
    "\n",
    "    mean = np.mean(signal, axis=-1)\n",
    "    variance = np.var(signal, axis=-1)\n",
    "    std_dev = np.std(signal, axis=-1)\n",
    "    rms_value = np.sqrt(np.mean(signal**2, axis=-1))\n",
    "    amd_value = np.mean(np.abs(np.diff(signal)), axis=-1)\n",
    "\n",
    "    from scipy.stats import skew, kurtosis\n",
    "    skewness = skew(signal, axis=-1)\n",
    "    kurtosis_value = kurtosis(signal, axis=-1)\n",
    "\n",
    "    first_derivative = np.diff(signal, axis=-1)\n",
    "    second_derivative = np.diff(first_derivative, axis=-1)\n",
    "    mobility = np.sqrt(np.var(first_derivative)/variance)\n",
    "    complexity = np.sqrt(np.var(second_derivative) / np.var(first_derivative)) / mobility\n",
    "\n",
    "    return np.concatenate((mean, variance, std_dev, rms_value, amd_value, skewness, kurtosis_value, mobility, complexity), axis=-1)"
   ]
  },
  {
   "cell_type": "code",
   "execution_count": null,
   "metadata": {},
   "outputs": [],
   "source": [
    "all_features = []\n",
    "for data in data_array:\n",
    "    all_features.append(extract_features_time_domain(data))"
   ]
  },
  {
   "cell_type": "code",
   "execution_count": null,
   "metadata": {},
   "outputs": [
    {
     "data": {
      "text/plain": [
       "(6502, 171)"
      ]
     },
     "execution_count": 97,
     "metadata": {},
     "output_type": "execute_result"
    }
   ],
   "source": [
    "all_features = np.array(all_features)\n",
    "all_features.shape          # (Nb of epochs, all features extracted from each electrode: 9x19) "
   ]
  }
 ],
 "metadata": {
  "kernelspec": {
   "display_name": "Python 3",
   "language": "python",
   "name": "python3"
  },
  "language_info": {
   "codemirror_mode": {
    "name": "ipython",
    "version": 3
   },
   "file_extension": ".py",
   "mimetype": "text/x-python",
   "name": "python",
   "nbconvert_exporter": "python",
   "pygments_lexer": "ipython3",
   "version": "3.8.10"
  }
 },
 "nbformat": 4,
 "nbformat_minor": 2
}
